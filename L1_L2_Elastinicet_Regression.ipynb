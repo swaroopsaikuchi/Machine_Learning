{
  "cells": [
    {
      "cell_type": "markdown",
      "metadata": {
        "id": "view-in-github",
        "colab_type": "text"
      },
      "source": [
        "<a href=\"https://colab.research.google.com/github/swaroopsaikuchi/multipleLinearReg/blob/main/L1_L2_Elastinicet_Regression.ipynb\" target=\"_parent\"><img src=\"https://colab.research.google.com/assets/colab-badge.svg\" alt=\"Open In Colab\"/></a>"
      ]
    },
    {
      "cell_type": "code",
      "execution_count": null,
      "metadata": {
        "id": "Qg1FIO-Wl3lC"
      },
      "outputs": [],
      "source": [
        "import pandas as pd\n",
        "import numpy as np\n",
        "import matplotlib.pyplot as plt\n",
        "import seaborn as sns\n",
        "%matplotlib inline"
      ]
    },
    {
      "cell_type": "code",
      "execution_count": null,
      "metadata": {
        "id": "hCG_NZ6tl3lE"
      },
      "outputs": [],
      "source": [
        "df=pd.read_csv('Algerian_forest_fires_cleaned_dataset.csv')"
      ]
    },
    {
      "cell_type": "code",
      "execution_count": null,
      "metadata": {
        "id": "-AZi1QRFl3lE",
        "outputId": "d0b3587d-6ef4-4b72-8b79-a324c5c2f61b"
      },
      "outputs": [
        {
          "data": {
            "text/html": [
              "<div>\n",
              "<style scoped>\n",
              "    .dataframe tbody tr th:only-of-type {\n",
              "        vertical-align: middle;\n",
              "    }\n",
              "\n",
              "    .dataframe tbody tr th {\n",
              "        vertical-align: top;\n",
              "    }\n",
              "\n",
              "    .dataframe thead th {\n",
              "        text-align: right;\n",
              "    }\n",
              "</style>\n",
              "<table border=\"1\" class=\"dataframe\">\n",
              "  <thead>\n",
              "    <tr style=\"text-align: right;\">\n",
              "      <th></th>\n",
              "      <th>day</th>\n",
              "      <th>month</th>\n",
              "      <th>year</th>\n",
              "      <th>Temperature</th>\n",
              "      <th>RH</th>\n",
              "      <th>Ws</th>\n",
              "      <th>Rain</th>\n",
              "      <th>FFMC</th>\n",
              "      <th>DMC</th>\n",
              "      <th>DC</th>\n",
              "      <th>ISI</th>\n",
              "      <th>BUI</th>\n",
              "      <th>FWI</th>\n",
              "      <th>Classes</th>\n",
              "      <th>Region</th>\n",
              "    </tr>\n",
              "  </thead>\n",
              "  <tbody>\n",
              "    <tr>\n",
              "      <th>0</th>\n",
              "      <td>1</td>\n",
              "      <td>6</td>\n",
              "      <td>2012</td>\n",
              "      <td>29</td>\n",
              "      <td>57</td>\n",
              "      <td>18</td>\n",
              "      <td>0.0</td>\n",
              "      <td>65.7</td>\n",
              "      <td>3.4</td>\n",
              "      <td>7.6</td>\n",
              "      <td>1.3</td>\n",
              "      <td>3.4</td>\n",
              "      <td>0.5</td>\n",
              "      <td>not fire</td>\n",
              "      <td>0</td>\n",
              "    </tr>\n",
              "    <tr>\n",
              "      <th>1</th>\n",
              "      <td>2</td>\n",
              "      <td>6</td>\n",
              "      <td>2012</td>\n",
              "      <td>29</td>\n",
              "      <td>61</td>\n",
              "      <td>13</td>\n",
              "      <td>1.3</td>\n",
              "      <td>64.4</td>\n",
              "      <td>4.1</td>\n",
              "      <td>7.6</td>\n",
              "      <td>1.0</td>\n",
              "      <td>3.9</td>\n",
              "      <td>0.4</td>\n",
              "      <td>not fire</td>\n",
              "      <td>0</td>\n",
              "    </tr>\n",
              "    <tr>\n",
              "      <th>2</th>\n",
              "      <td>3</td>\n",
              "      <td>6</td>\n",
              "      <td>2012</td>\n",
              "      <td>26</td>\n",
              "      <td>82</td>\n",
              "      <td>22</td>\n",
              "      <td>13.1</td>\n",
              "      <td>47.1</td>\n",
              "      <td>2.5</td>\n",
              "      <td>7.1</td>\n",
              "      <td>0.3</td>\n",
              "      <td>2.7</td>\n",
              "      <td>0.1</td>\n",
              "      <td>not fire</td>\n",
              "      <td>0</td>\n",
              "    </tr>\n",
              "    <tr>\n",
              "      <th>3</th>\n",
              "      <td>4</td>\n",
              "      <td>6</td>\n",
              "      <td>2012</td>\n",
              "      <td>25</td>\n",
              "      <td>89</td>\n",
              "      <td>13</td>\n",
              "      <td>2.5</td>\n",
              "      <td>28.6</td>\n",
              "      <td>1.3</td>\n",
              "      <td>6.9</td>\n",
              "      <td>0.0</td>\n",
              "      <td>1.7</td>\n",
              "      <td>0.0</td>\n",
              "      <td>not fire</td>\n",
              "      <td>0</td>\n",
              "    </tr>\n",
              "    <tr>\n",
              "      <th>4</th>\n",
              "      <td>5</td>\n",
              "      <td>6</td>\n",
              "      <td>2012</td>\n",
              "      <td>27</td>\n",
              "      <td>77</td>\n",
              "      <td>16</td>\n",
              "      <td>0.0</td>\n",
              "      <td>64.8</td>\n",
              "      <td>3.0</td>\n",
              "      <td>14.2</td>\n",
              "      <td>1.2</td>\n",
              "      <td>3.9</td>\n",
              "      <td>0.5</td>\n",
              "      <td>not fire</td>\n",
              "      <td>0</td>\n",
              "    </tr>\n",
              "  </tbody>\n",
              "</table>\n",
              "</div>"
            ],
            "text/plain": [
              "   day  month  year  Temperature  RH  Ws  Rain  FFMC  DMC    DC  ISI  BUI  \\\n",
              "0    1      6  2012           29  57  18   0.0  65.7  3.4   7.6  1.3  3.4   \n",
              "1    2      6  2012           29  61  13   1.3  64.4  4.1   7.6  1.0  3.9   \n",
              "2    3      6  2012           26  82  22  13.1  47.1  2.5   7.1  0.3  2.7   \n",
              "3    4      6  2012           25  89  13   2.5  28.6  1.3   6.9  0.0  1.7   \n",
              "4    5      6  2012           27  77  16   0.0  64.8  3.0  14.2  1.2  3.9   \n",
              "\n",
              "   FWI      Classes  Region  \n",
              "0  0.5  not fire          0  \n",
              "1  0.4  not fire          0  \n",
              "2  0.1  not fire          0  \n",
              "3  0.0  not fire          0  \n",
              "4  0.5  not fire          0  "
            ]
          },
          "execution_count": 4,
          "metadata": {},
          "output_type": "execute_result"
        }
      ],
      "source": [
        "df.head()"
      ]
    },
    {
      "cell_type": "code",
      "execution_count": null,
      "metadata": {
        "id": "gBJ244IQl3lE",
        "outputId": "ce23a641-0ad7-48a1-eb83-e481108633f4"
      },
      "outputs": [
        {
          "data": {
            "text/plain": [
              "Index(['day', 'month', 'year', 'Temperature', 'RH', 'Ws', 'Rain', 'FFMC',\n",
              "       'DMC', 'DC', 'ISI', 'BUI', 'FWI', 'Classes', 'Region'],\n",
              "      dtype='object')"
            ]
          },
          "execution_count": 5,
          "metadata": {},
          "output_type": "execute_result"
        }
      ],
      "source": [
        "df.columns"
      ]
    },
    {
      "cell_type": "code",
      "execution_count": null,
      "metadata": {
        "id": "WzajCQZll3lF"
      },
      "outputs": [],
      "source": [
        "##drop month,day and yyear\n",
        "df.drop(['day','month','year'],axis=1,inplace=True)"
      ]
    },
    {
      "cell_type": "code",
      "execution_count": null,
      "metadata": {
        "id": "3Y55Wcz4l3lF",
        "outputId": "da5704e3-17bf-4e5a-d3ec-27271be5e38c"
      },
      "outputs": [
        {
          "data": {
            "text/html": [
              "<div>\n",
              "<style scoped>\n",
              "    .dataframe tbody tr th:only-of-type {\n",
              "        vertical-align: middle;\n",
              "    }\n",
              "\n",
              "    .dataframe tbody tr th {\n",
              "        vertical-align: top;\n",
              "    }\n",
              "\n",
              "    .dataframe thead th {\n",
              "        text-align: right;\n",
              "    }\n",
              "</style>\n",
              "<table border=\"1\" class=\"dataframe\">\n",
              "  <thead>\n",
              "    <tr style=\"text-align: right;\">\n",
              "      <th></th>\n",
              "      <th>Temperature</th>\n",
              "      <th>RH</th>\n",
              "      <th>Ws</th>\n",
              "      <th>Rain</th>\n",
              "      <th>FFMC</th>\n",
              "      <th>DMC</th>\n",
              "      <th>DC</th>\n",
              "      <th>ISI</th>\n",
              "      <th>BUI</th>\n",
              "      <th>FWI</th>\n",
              "      <th>Classes</th>\n",
              "      <th>Region</th>\n",
              "    </tr>\n",
              "  </thead>\n",
              "  <tbody>\n",
              "    <tr>\n",
              "      <th>0</th>\n",
              "      <td>29</td>\n",
              "      <td>57</td>\n",
              "      <td>18</td>\n",
              "      <td>0.0</td>\n",
              "      <td>65.7</td>\n",
              "      <td>3.4</td>\n",
              "      <td>7.6</td>\n",
              "      <td>1.3</td>\n",
              "      <td>3.4</td>\n",
              "      <td>0.5</td>\n",
              "      <td>not fire</td>\n",
              "      <td>0</td>\n",
              "    </tr>\n",
              "    <tr>\n",
              "      <th>1</th>\n",
              "      <td>29</td>\n",
              "      <td>61</td>\n",
              "      <td>13</td>\n",
              "      <td>1.3</td>\n",
              "      <td>64.4</td>\n",
              "      <td>4.1</td>\n",
              "      <td>7.6</td>\n",
              "      <td>1.0</td>\n",
              "      <td>3.9</td>\n",
              "      <td>0.4</td>\n",
              "      <td>not fire</td>\n",
              "      <td>0</td>\n",
              "    </tr>\n",
              "    <tr>\n",
              "      <th>2</th>\n",
              "      <td>26</td>\n",
              "      <td>82</td>\n",
              "      <td>22</td>\n",
              "      <td>13.1</td>\n",
              "      <td>47.1</td>\n",
              "      <td>2.5</td>\n",
              "      <td>7.1</td>\n",
              "      <td>0.3</td>\n",
              "      <td>2.7</td>\n",
              "      <td>0.1</td>\n",
              "      <td>not fire</td>\n",
              "      <td>0</td>\n",
              "    </tr>\n",
              "    <tr>\n",
              "      <th>3</th>\n",
              "      <td>25</td>\n",
              "      <td>89</td>\n",
              "      <td>13</td>\n",
              "      <td>2.5</td>\n",
              "      <td>28.6</td>\n",
              "      <td>1.3</td>\n",
              "      <td>6.9</td>\n",
              "      <td>0.0</td>\n",
              "      <td>1.7</td>\n",
              "      <td>0.0</td>\n",
              "      <td>not fire</td>\n",
              "      <td>0</td>\n",
              "    </tr>\n",
              "    <tr>\n",
              "      <th>4</th>\n",
              "      <td>27</td>\n",
              "      <td>77</td>\n",
              "      <td>16</td>\n",
              "      <td>0.0</td>\n",
              "      <td>64.8</td>\n",
              "      <td>3.0</td>\n",
              "      <td>14.2</td>\n",
              "      <td>1.2</td>\n",
              "      <td>3.9</td>\n",
              "      <td>0.5</td>\n",
              "      <td>not fire</td>\n",
              "      <td>0</td>\n",
              "    </tr>\n",
              "  </tbody>\n",
              "</table>\n",
              "</div>"
            ],
            "text/plain": [
              "   Temperature  RH  Ws  Rain  FFMC  DMC    DC  ISI  BUI  FWI      Classes  \\\n",
              "0           29  57  18   0.0  65.7  3.4   7.6  1.3  3.4  0.5  not fire      \n",
              "1           29  61  13   1.3  64.4  4.1   7.6  1.0  3.9  0.4  not fire      \n",
              "2           26  82  22  13.1  47.1  2.5   7.1  0.3  2.7  0.1  not fire      \n",
              "3           25  89  13   2.5  28.6  1.3   6.9  0.0  1.7  0.0  not fire      \n",
              "4           27  77  16   0.0  64.8  3.0  14.2  1.2  3.9  0.5  not fire      \n",
              "\n",
              "   Region  \n",
              "0       0  \n",
              "1       0  \n",
              "2       0  \n",
              "3       0  \n",
              "4       0  "
            ]
          },
          "execution_count": 8,
          "metadata": {},
          "output_type": "execute_result"
        }
      ],
      "source": [
        "df.head()"
      ]
    },
    {
      "cell_type": "code",
      "execution_count": null,
      "metadata": {
        "id": "D6gIeOhxl3lF",
        "outputId": "dcc4080f-ba6a-4960-b509-55f445a5e328"
      },
      "outputs": [
        {
          "data": {
            "text/plain": [
              "fire             131\n",
              "not fire         101\n",
              "fire               4\n",
              "not fire           2\n",
              "fire               2\n",
              "not fire           1\n",
              "not fire           1\n",
              "not fire           1\n",
              "Name: Classes, dtype: int64"
            ]
          },
          "execution_count": 9,
          "metadata": {},
          "output_type": "execute_result"
        }
      ],
      "source": [
        "df['Classes'].value_counts()"
      ]
    },
    {
      "cell_type": "code",
      "execution_count": null,
      "metadata": {
        "id": "MhUhI4Fol3lF"
      },
      "outputs": [],
      "source": [
        "## Encoding\n",
        "df['Classes']=np.where(df['Classes'].str.contains(\"not fire\"),0,1)"
      ]
    },
    {
      "cell_type": "code",
      "execution_count": null,
      "metadata": {
        "id": "e7ZUkhBMl3lF",
        "outputId": "286c1151-a543-45d0-d106-5a8a2c0ca004"
      },
      "outputs": [
        {
          "data": {
            "text/html": [
              "<div>\n",
              "<style scoped>\n",
              "    .dataframe tbody tr th:only-of-type {\n",
              "        vertical-align: middle;\n",
              "    }\n",
              "\n",
              "    .dataframe tbody tr th {\n",
              "        vertical-align: top;\n",
              "    }\n",
              "\n",
              "    .dataframe thead th {\n",
              "        text-align: right;\n",
              "    }\n",
              "</style>\n",
              "<table border=\"1\" class=\"dataframe\">\n",
              "  <thead>\n",
              "    <tr style=\"text-align: right;\">\n",
              "      <th></th>\n",
              "      <th>Temperature</th>\n",
              "      <th>RH</th>\n",
              "      <th>Ws</th>\n",
              "      <th>Rain</th>\n",
              "      <th>FFMC</th>\n",
              "      <th>DMC</th>\n",
              "      <th>DC</th>\n",
              "      <th>ISI</th>\n",
              "      <th>BUI</th>\n",
              "      <th>FWI</th>\n",
              "      <th>Classes</th>\n",
              "      <th>Region</th>\n",
              "    </tr>\n",
              "  </thead>\n",
              "  <tbody>\n",
              "    <tr>\n",
              "      <th>238</th>\n",
              "      <td>30</td>\n",
              "      <td>65</td>\n",
              "      <td>14</td>\n",
              "      <td>0.0</td>\n",
              "      <td>85.4</td>\n",
              "      <td>16.0</td>\n",
              "      <td>44.5</td>\n",
              "      <td>4.5</td>\n",
              "      <td>16.9</td>\n",
              "      <td>6.5</td>\n",
              "      <td>1</td>\n",
              "      <td>1</td>\n",
              "    </tr>\n",
              "    <tr>\n",
              "      <th>239</th>\n",
              "      <td>28</td>\n",
              "      <td>87</td>\n",
              "      <td>15</td>\n",
              "      <td>4.4</td>\n",
              "      <td>41.1</td>\n",
              "      <td>6.5</td>\n",
              "      <td>8.0</td>\n",
              "      <td>0.1</td>\n",
              "      <td>6.2</td>\n",
              "      <td>0.0</td>\n",
              "      <td>0</td>\n",
              "      <td>1</td>\n",
              "    </tr>\n",
              "    <tr>\n",
              "      <th>240</th>\n",
              "      <td>27</td>\n",
              "      <td>87</td>\n",
              "      <td>29</td>\n",
              "      <td>0.5</td>\n",
              "      <td>45.9</td>\n",
              "      <td>3.5</td>\n",
              "      <td>7.9</td>\n",
              "      <td>0.4</td>\n",
              "      <td>3.4</td>\n",
              "      <td>0.2</td>\n",
              "      <td>0</td>\n",
              "      <td>1</td>\n",
              "    </tr>\n",
              "    <tr>\n",
              "      <th>241</th>\n",
              "      <td>24</td>\n",
              "      <td>54</td>\n",
              "      <td>18</td>\n",
              "      <td>0.1</td>\n",
              "      <td>79.7</td>\n",
              "      <td>4.3</td>\n",
              "      <td>15.2</td>\n",
              "      <td>1.7</td>\n",
              "      <td>5.1</td>\n",
              "      <td>0.7</td>\n",
              "      <td>0</td>\n",
              "      <td>1</td>\n",
              "    </tr>\n",
              "    <tr>\n",
              "      <th>242</th>\n",
              "      <td>24</td>\n",
              "      <td>64</td>\n",
              "      <td>15</td>\n",
              "      <td>0.2</td>\n",
              "      <td>67.3</td>\n",
              "      <td>3.8</td>\n",
              "      <td>16.5</td>\n",
              "      <td>1.2</td>\n",
              "      <td>4.8</td>\n",
              "      <td>0.5</td>\n",
              "      <td>0</td>\n",
              "      <td>1</td>\n",
              "    </tr>\n",
              "  </tbody>\n",
              "</table>\n",
              "</div>"
            ],
            "text/plain": [
              "     Temperature  RH  Ws  Rain  FFMC   DMC    DC  ISI   BUI  FWI  Classes  \\\n",
              "238           30  65  14   0.0  85.4  16.0  44.5  4.5  16.9  6.5        1   \n",
              "239           28  87  15   4.4  41.1   6.5   8.0  0.1   6.2  0.0        0   \n",
              "240           27  87  29   0.5  45.9   3.5   7.9  0.4   3.4  0.2        0   \n",
              "241           24  54  18   0.1  79.7   4.3  15.2  1.7   5.1  0.7        0   \n",
              "242           24  64  15   0.2  67.3   3.8  16.5  1.2   4.8  0.5        0   \n",
              "\n",
              "     Region  \n",
              "238       1  \n",
              "239       1  \n",
              "240       1  \n",
              "241       1  \n",
              "242       1  "
            ]
          },
          "execution_count": 12,
          "metadata": {},
          "output_type": "execute_result"
        }
      ],
      "source": [
        "df.tail()"
      ]
    },
    {
      "cell_type": "code",
      "execution_count": null,
      "metadata": {
        "id": "m3_dZ0L3l3lF",
        "outputId": "181cb565-05f2-4f68-9000-8381130d4ce0"
      },
      "outputs": [
        {
          "data": {
            "text/plain": [
              "1    137\n",
              "0    106\n",
              "Name: Classes, dtype: int64"
            ]
          },
          "execution_count": 13,
          "metadata": {},
          "output_type": "execute_result"
        }
      ],
      "source": [
        "df['Classes'].value_counts()"
      ]
    },
    {
      "cell_type": "code",
      "execution_count": null,
      "metadata": {
        "id": "AHmJH-90l3lF"
      },
      "outputs": [],
      "source": [
        "## Independent And dependent features\n",
        "X=df.drop('FWI',axis=1)\n",
        "y=df['FWI']"
      ]
    },
    {
      "cell_type": "code",
      "execution_count": null,
      "metadata": {
        "id": "4Nxonx5pl3lG",
        "outputId": "d99dff88-f3a9-4967-e34f-7e711714c265"
      },
      "outputs": [
        {
          "data": {
            "text/html": [
              "<div>\n",
              "<style scoped>\n",
              "    .dataframe tbody tr th:only-of-type {\n",
              "        vertical-align: middle;\n",
              "    }\n",
              "\n",
              "    .dataframe tbody tr th {\n",
              "        vertical-align: top;\n",
              "    }\n",
              "\n",
              "    .dataframe thead th {\n",
              "        text-align: right;\n",
              "    }\n",
              "</style>\n",
              "<table border=\"1\" class=\"dataframe\">\n",
              "  <thead>\n",
              "    <tr style=\"text-align: right;\">\n",
              "      <th></th>\n",
              "      <th>Temperature</th>\n",
              "      <th>RH</th>\n",
              "      <th>Ws</th>\n",
              "      <th>Rain</th>\n",
              "      <th>FFMC</th>\n",
              "      <th>DMC</th>\n",
              "      <th>DC</th>\n",
              "      <th>ISI</th>\n",
              "      <th>BUI</th>\n",
              "      <th>Classes</th>\n",
              "      <th>Region</th>\n",
              "    </tr>\n",
              "  </thead>\n",
              "  <tbody>\n",
              "    <tr>\n",
              "      <th>0</th>\n",
              "      <td>29</td>\n",
              "      <td>57</td>\n",
              "      <td>18</td>\n",
              "      <td>0.0</td>\n",
              "      <td>65.7</td>\n",
              "      <td>3.4</td>\n",
              "      <td>7.6</td>\n",
              "      <td>1.3</td>\n",
              "      <td>3.4</td>\n",
              "      <td>0</td>\n",
              "      <td>0</td>\n",
              "    </tr>\n",
              "    <tr>\n",
              "      <th>1</th>\n",
              "      <td>29</td>\n",
              "      <td>61</td>\n",
              "      <td>13</td>\n",
              "      <td>1.3</td>\n",
              "      <td>64.4</td>\n",
              "      <td>4.1</td>\n",
              "      <td>7.6</td>\n",
              "      <td>1.0</td>\n",
              "      <td>3.9</td>\n",
              "      <td>0</td>\n",
              "      <td>0</td>\n",
              "    </tr>\n",
              "    <tr>\n",
              "      <th>2</th>\n",
              "      <td>26</td>\n",
              "      <td>82</td>\n",
              "      <td>22</td>\n",
              "      <td>13.1</td>\n",
              "      <td>47.1</td>\n",
              "      <td>2.5</td>\n",
              "      <td>7.1</td>\n",
              "      <td>0.3</td>\n",
              "      <td>2.7</td>\n",
              "      <td>0</td>\n",
              "      <td>0</td>\n",
              "    </tr>\n",
              "    <tr>\n",
              "      <th>3</th>\n",
              "      <td>25</td>\n",
              "      <td>89</td>\n",
              "      <td>13</td>\n",
              "      <td>2.5</td>\n",
              "      <td>28.6</td>\n",
              "      <td>1.3</td>\n",
              "      <td>6.9</td>\n",
              "      <td>0.0</td>\n",
              "      <td>1.7</td>\n",
              "      <td>0</td>\n",
              "      <td>0</td>\n",
              "    </tr>\n",
              "    <tr>\n",
              "      <th>4</th>\n",
              "      <td>27</td>\n",
              "      <td>77</td>\n",
              "      <td>16</td>\n",
              "      <td>0.0</td>\n",
              "      <td>64.8</td>\n",
              "      <td>3.0</td>\n",
              "      <td>14.2</td>\n",
              "      <td>1.2</td>\n",
              "      <td>3.9</td>\n",
              "      <td>0</td>\n",
              "      <td>0</td>\n",
              "    </tr>\n",
              "  </tbody>\n",
              "</table>\n",
              "</div>"
            ],
            "text/plain": [
              "   Temperature  RH  Ws  Rain  FFMC  DMC    DC  ISI  BUI  Classes  Region\n",
              "0           29  57  18   0.0  65.7  3.4   7.6  1.3  3.4        0       0\n",
              "1           29  61  13   1.3  64.4  4.1   7.6  1.0  3.9        0       0\n",
              "2           26  82  22  13.1  47.1  2.5   7.1  0.3  2.7        0       0\n",
              "3           25  89  13   2.5  28.6  1.3   6.9  0.0  1.7        0       0\n",
              "4           27  77  16   0.0  64.8  3.0  14.2  1.2  3.9        0       0"
            ]
          },
          "execution_count": 15,
          "metadata": {},
          "output_type": "execute_result"
        }
      ],
      "source": [
        "X.head()"
      ]
    },
    {
      "cell_type": "code",
      "execution_count": null,
      "metadata": {
        "id": "MBh9uXoil3lG",
        "outputId": "d7f80c58-0a15-4a27-fa80-7e5814811574"
      },
      "outputs": [
        {
          "data": {
            "text/plain": [
              "0      0.5\n",
              "1      0.4\n",
              "2      0.1\n",
              "3      0.0\n",
              "4      0.5\n",
              "      ... \n",
              "238    6.5\n",
              "239    0.0\n",
              "240    0.2\n",
              "241    0.7\n",
              "242    0.5\n",
              "Name: FWI, Length: 243, dtype: float64"
            ]
          },
          "execution_count": 16,
          "metadata": {},
          "output_type": "execute_result"
        }
      ],
      "source": [
        "y"
      ]
    },
    {
      "cell_type": "code",
      "execution_count": null,
      "metadata": {
        "id": "HVNVeWbul3lG"
      },
      "outputs": [],
      "source": [
        "#Train Test Split\n",
        "from sklearn.model_selection import train_test_split\n",
        "X_train,X_test,y_train,y_test=train_test_split(X,y,test_size=0.25,random_state=42)"
      ]
    },
    {
      "cell_type": "code",
      "execution_count": null,
      "metadata": {
        "id": "ORVQeaSBl3lG",
        "outputId": "62349656-7162-4f55-b31b-2d191a6edf05"
      },
      "outputs": [
        {
          "data": {
            "text/plain": [
              "((182, 11), (61, 11))"
            ]
          },
          "execution_count": 19,
          "metadata": {},
          "output_type": "execute_result"
        }
      ],
      "source": [
        "X_train.shape,X_test.shape"
      ]
    },
    {
      "cell_type": "code",
      "execution_count": null,
      "metadata": {
        "id": "tR8XIgOOl3lG",
        "outputId": "1d06f413-cdbb-471c-d8a3-1024842f26aa"
      },
      "outputs": [
        {
          "data": {
            "text/html": [
              "<div>\n",
              "<style scoped>\n",
              "    .dataframe tbody tr th:only-of-type {\n",
              "        vertical-align: middle;\n",
              "    }\n",
              "\n",
              "    .dataframe tbody tr th {\n",
              "        vertical-align: top;\n",
              "    }\n",
              "\n",
              "    .dataframe thead th {\n",
              "        text-align: right;\n",
              "    }\n",
              "</style>\n",
              "<table border=\"1\" class=\"dataframe\">\n",
              "  <thead>\n",
              "    <tr style=\"text-align: right;\">\n",
              "      <th></th>\n",
              "      <th>Temperature</th>\n",
              "      <th>RH</th>\n",
              "      <th>Ws</th>\n",
              "      <th>Rain</th>\n",
              "      <th>FFMC</th>\n",
              "      <th>DMC</th>\n",
              "      <th>DC</th>\n",
              "      <th>ISI</th>\n",
              "      <th>BUI</th>\n",
              "      <th>Classes</th>\n",
              "      <th>Region</th>\n",
              "    </tr>\n",
              "  </thead>\n",
              "  <tbody>\n",
              "    <tr>\n",
              "      <th>Temperature</th>\n",
              "      <td>1.000000</td>\n",
              "      <td>-0.656095</td>\n",
              "      <td>-0.305977</td>\n",
              "      <td>-0.317512</td>\n",
              "      <td>0.694768</td>\n",
              "      <td>0.498173</td>\n",
              "      <td>0.390684</td>\n",
              "      <td>0.629848</td>\n",
              "      <td>0.473609</td>\n",
              "      <td>0.542141</td>\n",
              "      <td>0.254549</td>\n",
              "    </tr>\n",
              "    <tr>\n",
              "      <th>RH</th>\n",
              "      <td>-0.656095</td>\n",
              "      <td>1.000000</td>\n",
              "      <td>0.225736</td>\n",
              "      <td>0.241656</td>\n",
              "      <td>-0.653023</td>\n",
              "      <td>-0.414601</td>\n",
              "      <td>-0.236078</td>\n",
              "      <td>-0.717804</td>\n",
              "      <td>-0.362317</td>\n",
              "      <td>-0.456876</td>\n",
              "      <td>-0.394665</td>\n",
              "    </tr>\n",
              "    <tr>\n",
              "      <th>Ws</th>\n",
              "      <td>-0.305977</td>\n",
              "      <td>0.225736</td>\n",
              "      <td>1.000000</td>\n",
              "      <td>0.251932</td>\n",
              "      <td>-0.190076</td>\n",
              "      <td>0.000379</td>\n",
              "      <td>0.096576</td>\n",
              "      <td>-0.023558</td>\n",
              "      <td>0.035633</td>\n",
              "      <td>-0.082570</td>\n",
              "      <td>-0.199969</td>\n",
              "    </tr>\n",
              "    <tr>\n",
              "      <th>Rain</th>\n",
              "      <td>-0.317512</td>\n",
              "      <td>0.241656</td>\n",
              "      <td>0.251932</td>\n",
              "      <td>1.000000</td>\n",
              "      <td>-0.545491</td>\n",
              "      <td>-0.289754</td>\n",
              "      <td>-0.302341</td>\n",
              "      <td>-0.345707</td>\n",
              "      <td>-0.300964</td>\n",
              "      <td>-0.369357</td>\n",
              "      <td>-0.059022</td>\n",
              "    </tr>\n",
              "    <tr>\n",
              "      <th>FFMC</th>\n",
              "      <td>0.694768</td>\n",
              "      <td>-0.653023</td>\n",
              "      <td>-0.190076</td>\n",
              "      <td>-0.545491</td>\n",
              "      <td>1.000000</td>\n",
              "      <td>0.620807</td>\n",
              "      <td>0.524101</td>\n",
              "      <td>0.750799</td>\n",
              "      <td>0.607210</td>\n",
              "      <td>0.781259</td>\n",
              "      <td>0.249514</td>\n",
              "    </tr>\n",
              "    <tr>\n",
              "      <th>DMC</th>\n",
              "      <td>0.498173</td>\n",
              "      <td>-0.414601</td>\n",
              "      <td>0.000379</td>\n",
              "      <td>-0.289754</td>\n",
              "      <td>0.620807</td>\n",
              "      <td>1.000000</td>\n",
              "      <td>0.868647</td>\n",
              "      <td>0.685656</td>\n",
              "      <td>0.983175</td>\n",
              "      <td>0.617273</td>\n",
              "      <td>0.212582</td>\n",
              "    </tr>\n",
              "    <tr>\n",
              "      <th>DC</th>\n",
              "      <td>0.390684</td>\n",
              "      <td>-0.236078</td>\n",
              "      <td>0.096576</td>\n",
              "      <td>-0.302341</td>\n",
              "      <td>0.524101</td>\n",
              "      <td>0.868647</td>\n",
              "      <td>1.000000</td>\n",
              "      <td>0.513701</td>\n",
              "      <td>0.942414</td>\n",
              "      <td>0.543581</td>\n",
              "      <td>-0.060838</td>\n",
              "    </tr>\n",
              "    <tr>\n",
              "      <th>ISI</th>\n",
              "      <td>0.629848</td>\n",
              "      <td>-0.717804</td>\n",
              "      <td>-0.023558</td>\n",
              "      <td>-0.345707</td>\n",
              "      <td>0.750799</td>\n",
              "      <td>0.685656</td>\n",
              "      <td>0.513701</td>\n",
              "      <td>1.000000</td>\n",
              "      <td>0.643818</td>\n",
              "      <td>0.742977</td>\n",
              "      <td>0.296441</td>\n",
              "    </tr>\n",
              "    <tr>\n",
              "      <th>BUI</th>\n",
              "      <td>0.473609</td>\n",
              "      <td>-0.362317</td>\n",
              "      <td>0.035633</td>\n",
              "      <td>-0.300964</td>\n",
              "      <td>0.607210</td>\n",
              "      <td>0.983175</td>\n",
              "      <td>0.942414</td>\n",
              "      <td>0.643818</td>\n",
              "      <td>1.000000</td>\n",
              "      <td>0.612239</td>\n",
              "      <td>0.114897</td>\n",
              "    </tr>\n",
              "    <tr>\n",
              "      <th>Classes</th>\n",
              "      <td>0.542141</td>\n",
              "      <td>-0.456876</td>\n",
              "      <td>-0.082570</td>\n",
              "      <td>-0.369357</td>\n",
              "      <td>0.781259</td>\n",
              "      <td>0.617273</td>\n",
              "      <td>0.543581</td>\n",
              "      <td>0.742977</td>\n",
              "      <td>0.612239</td>\n",
              "      <td>1.000000</td>\n",
              "      <td>0.188837</td>\n",
              "    </tr>\n",
              "    <tr>\n",
              "      <th>Region</th>\n",
              "      <td>0.254549</td>\n",
              "      <td>-0.394665</td>\n",
              "      <td>-0.199969</td>\n",
              "      <td>-0.059022</td>\n",
              "      <td>0.249514</td>\n",
              "      <td>0.212582</td>\n",
              "      <td>-0.060838</td>\n",
              "      <td>0.296441</td>\n",
              "      <td>0.114897</td>\n",
              "      <td>0.188837</td>\n",
              "      <td>1.000000</td>\n",
              "    </tr>\n",
              "  </tbody>\n",
              "</table>\n",
              "</div>"
            ],
            "text/plain": [
              "             Temperature        RH        Ws      Rain      FFMC       DMC  \\\n",
              "Temperature     1.000000 -0.656095 -0.305977 -0.317512  0.694768  0.498173   \n",
              "RH             -0.656095  1.000000  0.225736  0.241656 -0.653023 -0.414601   \n",
              "Ws             -0.305977  0.225736  1.000000  0.251932 -0.190076  0.000379   \n",
              "Rain           -0.317512  0.241656  0.251932  1.000000 -0.545491 -0.289754   \n",
              "FFMC            0.694768 -0.653023 -0.190076 -0.545491  1.000000  0.620807   \n",
              "DMC             0.498173 -0.414601  0.000379 -0.289754  0.620807  1.000000   \n",
              "DC              0.390684 -0.236078  0.096576 -0.302341  0.524101  0.868647   \n",
              "ISI             0.629848 -0.717804 -0.023558 -0.345707  0.750799  0.685656   \n",
              "BUI             0.473609 -0.362317  0.035633 -0.300964  0.607210  0.983175   \n",
              "Classes         0.542141 -0.456876 -0.082570 -0.369357  0.781259  0.617273   \n",
              "Region          0.254549 -0.394665 -0.199969 -0.059022  0.249514  0.212582   \n",
              "\n",
              "                   DC       ISI       BUI   Classes    Region  \n",
              "Temperature  0.390684  0.629848  0.473609  0.542141  0.254549  \n",
              "RH          -0.236078 -0.717804 -0.362317 -0.456876 -0.394665  \n",
              "Ws           0.096576 -0.023558  0.035633 -0.082570 -0.199969  \n",
              "Rain        -0.302341 -0.345707 -0.300964 -0.369357 -0.059022  \n",
              "FFMC         0.524101  0.750799  0.607210  0.781259  0.249514  \n",
              "DMC          0.868647  0.685656  0.983175  0.617273  0.212582  \n",
              "DC           1.000000  0.513701  0.942414  0.543581 -0.060838  \n",
              "ISI          0.513701  1.000000  0.643818  0.742977  0.296441  \n",
              "BUI          0.942414  0.643818  1.000000  0.612239  0.114897  \n",
              "Classes      0.543581  0.742977  0.612239  1.000000  0.188837  \n",
              "Region      -0.060838  0.296441  0.114897  0.188837  1.000000  "
            ]
          },
          "execution_count": 20,
          "metadata": {},
          "output_type": "execute_result"
        }
      ],
      "source": [
        "## Feature Selection based on correlaltion\n",
        "X_train.corr()"
      ]
    },
    {
      "cell_type": "code",
      "execution_count": null,
      "metadata": {
        "id": "xYjNXhmFl3lG",
        "outputId": "79ab667b-4cd0-4b26-cffb-35236a20e526"
      },
      "outputs": [
        {
          "data": {
            "text/plain": [
              "<AxesSubplot:>"
            ]
          },
          "execution_count": 21,
          "metadata": {},
          "output_type": "execute_result"
        },
        {
          "data": {
            "image/png": "[encoded data removed]",
            "text/plain": [
              "<Figure size 864x720 with 2 Axes>"
            ]
          },
          "metadata": {
            "needs_background": "light"
          },
          "output_type": "display_data"
        }
      ],
      "source": [
        "## Check for multicollinearity\n",
        "plt.figure(figsize=(12,10))\n",
        "corr=X_train.corr()\n",
        "sns.heatmap(corr,annot=True)\n"
      ]
    },
    {
      "cell_type": "code",
      "execution_count": null,
      "metadata": {
        "id": "vNVpk_Wpl3lG"
      },
      "outputs": [],
      "source": [
        "def correlation(dataset, threshold):\n",
        "    col_corr = set()\n",
        "    corr_matrix = dataset.corr()\n",
        "    for i in range(len(corr_matrix.columns)):\n",
        "        for j in range(i):\n",
        "            if abs(corr_matrix.iloc[i, j]) > threshold:\n",
        "                colname = corr_matrix.columns[i]\n",
        "                col_corr.add(colname)\n",
        "    return col_corr"
      ]
    },
    {
      "cell_type": "code",
      "execution_count": null,
      "metadata": {
        "id": "X6-jXx1Hl3lG"
      },
      "outputs": [],
      "source": [
        "## threshold--Domain expertise\n",
        "corr_features=correlation(X_train,0.85)"
      ]
    },
    {
      "cell_type": "code",
      "execution_count": null,
      "metadata": {
        "id": "Wg6Jmurrl3lG",
        "outputId": "7a1c001d-8d99-460a-e4d0-2194b49dfdae"
      },
      "outputs": [
        {
          "name": "stderr",
          "output_type": "stream",
          "text": [
            "C:\\Users\\win10\\anaconda3\\lib\\site-packages\\pandas\\core\\frame.py:4163: SettingWithCopyWarning: \n",
            "A value is trying to be set on a copy of a slice from a DataFrame\n",
            "\n",
            "See the caveats in the documentation: https://pandas.pydata.org/pandas-docs/stable/user_guide/indexing.html#returning-a-view-versus-a-copy\n",
            "  return super().drop(\n"
          ]
        },
        {
          "data": {
            "text/plain": [
              "((182, 9), (61, 9))"
            ]
          },
          "execution_count": 27,
          "metadata": {},
          "output_type": "execute_result"
        }
      ],
      "source": [
        "## drop features when correlation is more than 0.85\n",
        "X_train.drop(corr_features,axis=1,inplace=True)\n",
        "X_test.drop(corr_features,axis=1,inplace=True)\n",
        "X_train.shape,X_test.shape"
      ]
    },
    {
      "cell_type": "markdown",
      "metadata": {
        "id": "DAiDhajtl3lG"
      },
      "source": [
        "## Feature Scaling Or Standardization"
      ]
    },
    {
      "cell_type": "code",
      "execution_count": null,
      "metadata": {
        "id": "ZfILNz7ol3lO"
      },
      "outputs": [],
      "source": [
        "from sklearn.preprocessing import StandardScaler\n",
        "scaler=StandardScaler()\n",
        "X_train_scaled=scaler.fit_transform(X_train)\n",
        "X_test_scaled=scaler.transform(X_test)"
      ]
    },
    {
      "cell_type": "code",
      "execution_count": null,
      "metadata": {
        "id": "wHZ9Uuz6l3lP",
        "outputId": "76d17a04-aa21-4843-dc83-9c1572a50921"
      },
      "outputs": [
        {
          "data": {
            "text/plain": [
              "array([[-0.84284248,  0.78307967,  1.29972026, ..., -0.62963326,\n",
              "        -1.10431526, -0.98907071],\n",
              "       [-0.30175842,  0.64950844, -0.59874754, ..., -0.93058524,\n",
              "        -1.10431526,  1.01105006],\n",
              "       [ 2.13311985, -2.08870172, -0.21905398, ...,  2.7271388 ,\n",
              "         0.90553851,  1.01105006],\n",
              "       ...,\n",
              "       [-1.9250106 ,  0.9166509 ,  0.54033314, ..., -1.06948615,\n",
              "        -1.10431526, -0.98907071],\n",
              "       [ 0.50986767, -0.21870454,  0.16063958, ...,  0.5973248 ,\n",
              "         0.90553851,  1.01105006],\n",
              "       [-0.57230045,  0.98343651,  2.05910739, ..., -0.86113478,\n",
              "        -1.10431526, -0.98907071]])"
            ]
          },
          "execution_count": 29,
          "metadata": {},
          "output_type": "execute_result"
        }
      ],
      "source": [
        "X_train_scaled"
      ]
    },
    {
      "cell_type": "markdown",
      "metadata": {
        "id": "2kfhww_Ul3lP"
      },
      "source": [
        "## Box Plots To understand Effect Of Standard Scaler"
      ]
    },
    {
      "cell_type": "code",
      "execution_count": null,
      "metadata": {
        "id": "bnnuKIm1l3lP",
        "outputId": "c71ed234-91ca-483f-d413-8f3a3495d30e"
      },
      "outputs": [
        {
          "data": {
            "text/plain": [
              "Text(0.5, 1.0, 'X_train After Scaling')"
            ]
          },
          "execution_count": 30,
          "metadata": {},
          "output_type": "execute_result"
        },
        {
          "data": {
            "image/png": "[encoded data removed]",
            "text/plain": [
              "<Figure size 1080x360 with 2 Axes>"
            ]
          },
          "metadata": {
            "needs_background": "light"
          },
          "output_type": "display_data"
        }
      ],
      "source": [
        "plt.subplots(figsize=(15, 5))\n",
        "plt.subplot(1, 2, 1)\n",
        "sns.boxplot(data=X_train)\n",
        "plt.title('X_train Before Scaling')\n",
        "plt.subplot(1, 2, 2)\n",
        "sns.boxplot(data=X_train_scaled)\n",
        "plt.title('X_train After Scaling')"
      ]
    },
    {
      "cell_type": "markdown",
      "metadata": {
        "id": "smaChDbTl3lP"
      },
      "source": [
        "## Linear Regression Model"
      ]
    },
    {
      "cell_type": "code",
      "execution_count": null,
      "metadata": {
        "id": "5IoXe1y-l3lP",
        "outputId": "24c38713-151b-4fe4-acfa-32bab9ec8e90"
      },
      "outputs": [
        {
          "name": "stdout",
          "output_type": "stream",
          "text": [
            "Mean absolute error 0.5468236465249988\n",
            "R2 Score 0.9847657384266951\n"
          ]
        },
        {
          "data": {
            "text/plain": [
              "<matplotlib.collections.PathCollection at 0x1a558dd8c70>"
            ]
          },
          "execution_count": 69,
          "metadata": {},
          "output_type": "execute_result"
        },
        {
          "data": {
            "image/png": "[encoded data removed]",
            "text/plain": [
              "<Figure size 432x288 with 1 Axes>"
            ]
          },
          "metadata": {
            "needs_background": "light"
          },
          "output_type": "display_data"
        }
      ],
      "source": [
        "from sklearn.linear_model import LinearRegression\n",
        "from sklearn.metrics import mean_absolute_error\n",
        "from sklearn.metrics import r2_score\n",
        "linreg=LinearRegression()\n",
        "linreg.fit(X_train_scaled,y_train)\n",
        "y_pred=linreg.predict(X_test_scaled)\n",
        "mae=mean_absolute_error(y_test,y_pred)\n",
        "score=r2_score(y_test,y_pred)\n",
        "print(\"Mean absolute error\", mae)\n",
        "print(\"R2 Score\", score)\n",
        "plt.scatter(y_test,y_pred)"
      ]
    },
    {
      "cell_type": "markdown",
      "metadata": {
        "id": "FeYneXK2l3lP"
      },
      "source": [
        "## Lasso Regression"
      ]
    },
    {
      "cell_type": "code",
      "execution_count": null,
      "metadata": {
        "id": "-Lbq9_p9l3lP",
        "outputId": "214a13e2-9e40-4a04-e04f-6ff8d2c955ea"
      },
      "outputs": [
        {
          "name": "stdout",
          "output_type": "stream",
          "text": [
            "Mean absolute error 1.1331759949144085\n",
            "R2 Score 0.9492020263112388\n"
          ]
        },
        {
          "data": {
            "text/plain": [
              "<matplotlib.collections.PathCollection at 0x1a558e84250>"
            ]
          },
          "execution_count": 70,
          "metadata": {},
          "output_type": "execute_result"
        },
        {
          "data": {
            "image/png": "[encoded data removed]",
            "text/plain": [
              "<Figure size 432x288 with 1 Axes>"
            ]
          },
          "metadata": {
            "needs_background": "light"
          },
          "output_type": "display_data"
        }
      ],
      "source": [
        "from sklearn.linear_model import Lasso\n",
        "from sklearn.metrics import mean_absolute_error\n",
        "from sklearn.metrics import r2_score\n",
        "lasso=Lasso()\n",
        "lasso.fit(X_train_scaled,y_train)\n",
        "y_pred=lasso.predict(X_test_scaled)\n",
        "mae=mean_absolute_error(y_test,y_pred)\n",
        "score=r2_score(y_test,y_pred)\n",
        "print(\"Mean absolute error\", mae)\n",
        "print(\"R2 Score\", score)\n",
        "plt.scatter(y_test,y_pred)"
      ]
    },
    {
      "cell_type": "markdown",
      "metadata": {
        "id": "ZYJNN2col3lP"
      },
      "source": [
        "### Cross Validation Lasso"
      ]
    },
    {
      "cell_type": "code",
      "execution_count": null,
      "metadata": {
        "id": "jr4LG3rll3lP",
        "outputId": "4d22ccc5-7b46-45d6-e6f0-e9293dbbe4b4"
      },
      "outputs": [
        {
          "data": {
            "text/plain": [
              "LassoCV(cv=5)"
            ]
          },
          "execution_count": 73,
          "metadata": {},
          "output_type": "execute_result"
        }
      ],
      "source": [
        "from sklearn.linear_model import LassoCV\n",
        "lassocv=LassoCV(cv=5)\n",
        "lassocv.fit(X_train_scaled,y_train)"
      ]
    },
    {
      "cell_type": "code",
      "execution_count": null,
      "metadata": {
        "id": "WG2iKihPl3lP",
        "outputId": "57f38ad3-fea5-4adf-e6f5-3ea68b564e73"
      },
      "outputs": [
        {
          "data": {
            "text/plain": [
              "0.05725391318234405"
            ]
          },
          "execution_count": 75,
          "metadata": {},
          "output_type": "execute_result"
        }
      ],
      "source": [
        "lassocv.alpha_"
      ]
    },
    {
      "cell_type": "code",
      "execution_count": null,
      "metadata": {
        "id": "FVhi-cjXl3lP",
        "outputId": "80d716fb-f8b5-4a9f-9976-0b93b4ac5d1a"
      },
      "outputs": [
        {
          "data": {
            "text/plain": [
              "array([7.05853002e+00, 6.58280872e+00, 6.13914944e+00, 5.72539132e+00,\n",
              "       5.33951911e+00, 4.97965339e+00, 4.64404142e+00, 4.33104857e+00,\n",
              "       4.03915039e+00, 3.76692517e+00, 3.51304702e+00, 3.27627941e+00,\n",
              "       3.05546914e+00, 2.84954075e+00, 2.65749124e+00, 2.47838523e+00,\n",
              "       2.31135036e+00, 2.15557308e+00, 2.01029467e+00, 1.87480753e+00,\n",
              "       1.74845178e+00, 1.63061198e+00, 1.52071419e+00, 1.41822315e+00,\n",
              "       1.32263965e+00, 1.23349817e+00, 1.15036452e+00, 1.07283380e+00,\n",
              "       1.00052839e+00, 9.33096128e-01, 8.70208572e-01, 8.11559427e-01,\n",
              "       7.56863037e-01, 7.05853002e-01, 6.58280872e-01, 6.13914944e-01,\n",
              "       5.72539132e-01, 5.33951911e-01, 4.97965339e-01, 4.64404142e-01,\n",
              "       4.33104857e-01, 4.03915039e-01, 3.76692517e-01, 3.51304702e-01,\n",
              "       3.27627941e-01, 3.05546914e-01, 2.84954075e-01, 2.65749124e-01,\n",
              "       2.47838523e-01, 2.31135036e-01, 2.15557308e-01, 2.01029467e-01,\n",
              "       1.87480753e-01, 1.74845178e-01, 1.63061198e-01, 1.52071419e-01,\n",
              "       1.41822315e-01, 1.32263965e-01, 1.23349817e-01, 1.15036452e-01,\n",
              "       1.07283380e-01, 1.00052839e-01, 9.33096128e-02, 8.70208572e-02,\n",
              "       8.11559427e-02, 7.56863037e-02, 7.05853002e-02, 6.58280872e-02,\n",
              "       6.13914944e-02, 5.72539132e-02, 5.33951911e-02, 4.97965339e-02,\n",
              "       4.64404142e-02, 4.33104857e-02, 4.03915039e-02, 3.76692517e-02,\n",
              "       3.51304702e-02, 3.27627941e-02, 3.05546914e-02, 2.84954075e-02,\n",
              "       2.65749124e-02, 2.47838523e-02, 2.31135036e-02, 2.15557308e-02,\n",
              "       2.01029467e-02, 1.87480753e-02, 1.74845178e-02, 1.63061198e-02,\n",
              "       1.52071419e-02, 1.41822315e-02, 1.32263965e-02, 1.23349817e-02,\n",
              "       1.15036452e-02, 1.07283380e-02, 1.00052839e-02, 9.33096128e-03,\n",
              "       8.70208572e-03, 8.11559427e-03, 7.56863037e-03, 7.05853002e-03])"
            ]
          },
          "execution_count": 76,
          "metadata": {},
          "output_type": "execute_result"
        }
      ],
      "source": [
        "lassocv.alphas_"
      ]
    },
    {
      "cell_type": "code",
      "execution_count": null,
      "metadata": {
        "id": "5kFvI4M_l3lQ",
        "outputId": "23bb903c-c891-4ec0-b0ea-8b70454b79c3"
      },
      "outputs": [
        {
          "data": {
            "text/plain": [
              "array([[53.64536329, 65.39074075, 54.89628985, 77.90299066, 39.38236846],\n",
              "       [46.99139716, 59.81506814, 49.29840831, 75.6645852 , 35.31758355],\n",
              "       [41.14908917, 53.9178721 , 42.49594889, 68.35708298, 31.76996123],\n",
              "       [36.05788169, 48.41773965, 36.66879347, 61.92819453, 28.67296816],\n",
              "       [31.62067285, 42.76466229, 31.68391904, 56.26841266, 24.93183295],\n",
              "       [27.75285367, 37.81922812, 27.42599138, 51.28216115, 21.56888645],\n",
              "       [24.3807738 , 33.49107651, 23.7950306 , 45.25481907, 18.66094162],\n",
              "       [21.44052804, 29.70161639, 20.70460191, 39.90418045, 16.14837778],\n",
              "       [18.876308  , 26.38208059, 18.07969934, 35.23429953, 13.97821475],\n",
              "       [16.63960395, 23.47341883, 15.85530749, 31.15712074, 12.10483403],\n",
              "       [14.68819307, 20.92329068, 13.97555108, 27.59649208, 10.48862803],\n",
              "       [12.98525144, 18.68636627, 12.39173305, 24.48611006,  9.09521221],\n",
              "       [11.49893734, 16.72312788, 11.06186319, 21.7677198 ,  7.89445038],\n",
              "       [10.2013182 , 14.9991189 ,  9.94965275, 19.39216316,  6.86106557],\n",
              "       [ 9.06814642, 13.48429046,  9.02375611, 17.31505177,  5.9722389 ],\n",
              "       [ 8.0783105 , 12.15220147,  8.25686268, 15.49825178,  5.20846991],\n",
              "       [ 7.21342796, 10.98048099,  7.62613185, 13.90854714,  4.5528438 ],\n",
              "       [ 6.45749132,  9.94890861,  7.11117548, 12.51700172,  3.99069111],\n",
              "       [ 5.79649781,  9.04007002,  6.69464754, 11.29840502,  3.50929245],\n",
              "       [ 5.21843764,  8.23876281,  6.36161441, 10.23043133,  3.09746419],\n",
              "       [ 4.71266457,  7.53171188,  6.09923004,  9.29470762,  2.74599653],\n",
              "       [ 4.2699656 ,  6.90732196,  5.89645437,  8.47412971,  2.44641798],\n",
              "       [ 3.88231419,  6.35546212,  5.74343167,  7.75415263,  2.19155766],\n",
              "       [ 3.54271656,  5.86727817,  5.63280675,  7.1220963 ,  1.97520698],\n",
              "       [ 3.24507798,  5.43490383,  5.55722342,  6.56690368,  1.79199187],\n",
              "       [ 2.98408648,  5.05183908,  5.51072584,  6.07893135,  1.6372624 ],\n",
              "       [ 2.75511169,  4.71201421,  5.48822878,  5.64976711,  1.50699679],\n",
              "       [ 2.55407274,  4.41024533,  5.48539678,  5.27207134,  1.39771812],\n",
              "       [ 2.37754224,  4.14199391,  5.49854058,  4.93929274,  1.30641528],\n",
              "       [ 2.22240106,  3.90328437,  5.52452745,  4.64615961,  1.23051895],\n",
              "       [ 2.08597116,  3.69063268,  5.56020979,  4.38761378,  1.16776797],\n",
              "       [ 1.9659162 ,  3.50098406,  5.6043589 ,  4.15939166,  1.11623041],\n",
              "       [ 1.86019735,  3.33165877,  5.65456906,  3.95776947,  1.07424081],\n",
              "       [ 1.76703503,  3.18030479,  5.70925192,  3.77949324,  1.04036447],\n",
              "       [ 1.6848755 ,  3.04481488,  5.76708269,  3.62171864,  1.01336643],\n",
              "       [ 1.61236193,  2.92346604,  5.82695915,  3.48195856,  0.99218458],\n",
              "       [ 1.54827557,  2.81461081,  5.88796931,  3.3580375 ,  0.97590638],\n",
              "       [ 1.49165092,  2.71684484,  5.94936347,  3.24805179,  0.96383716],\n",
              "       [ 1.44154595,  2.62893196,  6.01053016,  3.1503334 ,  0.95513053],\n",
              "       [ 1.39716889,  2.54978296,  6.07039933,  3.07232371,  0.94929556],\n",
              "       [ 1.35782745,  2.47843742,  6.12975718,  3.0041222 ,  0.94584218],\n",
              "       [ 1.32291594,  2.41404782,  6.18769529,  2.94364011,  0.94435089],\n",
              "       [ 1.29190414,  2.35586563,  6.24396657,  2.88962691,  0.94446421],\n",
              "       [ 1.26432775,  2.30322922,  6.29839177,  2.84193587,  0.94587808],\n",
              "       [ 1.23978001,  2.25555322,  6.35084178,  2.79951289,  0.94833447],\n",
              "       [ 1.21631899,  2.21233117,  6.39529714,  2.76173546,  0.9516149 ],\n",
              "       [ 1.18452807,  2.16000042,  6.42643862,  2.72805794,  0.95553494],\n",
              "       [ 1.15701368,  2.11158527,  6.45636883,  2.69761451,  0.95595979],\n",
              "       [ 1.13320995,  2.06862134,  6.48638494,  2.67077799,  0.93982106],\n",
              "       [ 1.11260173,  2.03047905,  6.51570208,  2.6467804 ,  0.9267394 ],\n",
              "       [ 1.09481028,  1.9965441 ,  6.54418839,  2.62528895,  0.92156967],\n",
              "       [ 1.07943936,  1.96633625,  6.57175064,  2.60556754,  0.91819477],\n",
              "       [ 1.06616655,  1.93941688,  6.60120289,  2.58826543,  0.91600498],\n",
              "       [ 1.05471212,  1.91540122,  6.66074506,  2.53939631,  0.91492536],\n",
              "       [ 1.04483316,  1.89395167,  6.72040081,  2.49354558,  0.91475751],\n",
              "       [ 1.03631885,  1.87477186,  6.77985049,  2.45183158,  0.91533073],\n",
              "       [ 1.02898619,  1.85760147,  6.8386118 ,  2.41402473,  0.91650002],\n",
              "       [ 1.02267637,  1.84221172,  6.89546904,  2.37952566,  0.91817465],\n",
              "       [ 1.0172516 ,  1.81986019,  6.95182997,  2.34943959,  0.92100746],\n",
              "       [ 1.01259234,  1.7874912 ,  7.00657253,  2.30905785,  0.91090128],\n",
              "       [ 0.99291676,  1.75813753,  7.05952508,  2.26689771,  0.88812743],\n",
              "       [ 0.96711245,  1.73133215,  7.11055395,  2.22965179,  0.86893338],\n",
              "       [ 0.94404465,  1.70754321,  7.15957739,  2.19646   ,  0.85251259],\n",
              "       [ 0.91746069,  1.68586828,  7.21115863,  2.16644165,  0.83841802],\n",
              "       [ 0.89121876,  1.66666838,  7.26823916,  2.14003416,  0.82646203],\n",
              "       [ 0.86783937,  1.64937312,  7.32193772,  2.11642121,  0.81629395],\n",
              "       [ 0.84703112,  1.6337788 ,  7.37194387,  2.09528441,  0.80766048],\n",
              "       [ 0.82845196,  1.619701  ,  7.42070575,  2.07634166,  0.80034774],\n",
              "       [ 0.81184328,  1.6069769 ,  7.46783924,  2.05934486,  0.79417047],\n",
              "       [ 0.79697877,  1.59523036,  7.51171241,  2.04379341,  0.78898574],\n",
              "       [ 0.78366252,  1.58481658,  7.5533042 ,  2.03007893,  0.78514158],\n",
              "       [ 0.77340653,  1.57536934,  7.59178479,  2.01773193,  0.78410497],\n",
              "       [ 0.76437368,  1.56730639,  7.62890427,  2.00633629,  0.78327866],\n",
              "       [ 0.75641103,  1.56014926,  7.66385201,  1.99569195,  0.78309295],\n",
              "       [ 0.74929762,  1.55377904,  7.69675973,  1.98581272,  0.78325254],\n",
              "       [ 0.7431075 ,  1.54808751,  7.72772336,  1.97708583,  0.78348718],\n",
              "       [ 0.73764056,  1.5428574 ,  7.75701245,  1.9690422 ,  0.78415382],\n",
              "       [ 0.73271889,  1.5383076 ,  7.78098988,  1.96195515,  0.78479522],\n",
              "       [ 0.72844826,  1.53422868,  7.80009362,  1.95555728,  0.78577592],\n",
              "       [ 0.72457927,  1.53042136,  7.81782859,  1.94960372,  0.78686385],\n",
              "       [ 0.72121402,  1.5271394 ,  7.83584096,  1.94420011,  0.78783843],\n",
              "       [ 0.71854269,  1.52403047,  7.8521645 ,  1.93945512,  0.78886011],\n",
              "       [ 0.71624922,  1.52137747,  7.86797141,  1.93532188,  0.79008917],\n",
              "       [ 0.71419505,  1.51882628,  7.8824946 ,  1.93156393,  0.7910736 ],\n",
              "       [ 0.71283686,  1.51649634,  7.89597341,  1.92813104,  0.79328236],\n",
              "       [ 0.7117556 ,  1.51454548,  7.90862683,  1.92492966,  0.7959553 ],\n",
              "       [ 0.71078691,  1.5128162 ,  7.92077339,  1.92207644,  0.79869912],\n",
              "       [ 0.71003406,  1.51137977,  7.93211766,  1.9195065 ,  0.80158876],\n",
              "       [ 0.7094272 ,  1.51017923,  7.94254787,  1.9171673 ,  0.80451499],\n",
              "       [ 0.70893209,  1.50910355,  7.95231005,  1.91555613,  0.80717091],\n",
              "       [ 0.70847636,  1.50819995,  7.96151575,  1.914521  ,  0.8098638 ],\n",
              "       [ 0.70814046,  1.50740984,  7.97034636,  1.91358558,  0.81227152],\n",
              "       [ 0.70789298,  1.5065737 ,  7.97838619,  1.91277526,  0.81468439],\n",
              "       [ 0.70770357,  1.50591279,  7.98587605,  1.9120262 ,  0.8170304 ],\n",
              "       [ 0.70752166,  1.50536216,  7.99241057,  1.91138883,  0.81925406],\n",
              "       [ 0.70734296,  1.50487616,  7.99849196,  1.91084915,  0.82119901],\n",
              "       [ 0.70724307,  1.50444309,  8.00451482,  1.91033293,  0.82327046],\n",
              "       [ 0.70719344,  1.50391791,  8.01011355,  1.9098903 ,  0.8250587 ],\n",
              "       [ 0.70714379,  1.50342997,  8.01481494,  1.90951275,  0.826765  ],\n",
              "       [ 0.70711086,  1.50300182,  8.01992921,  1.90919915,  0.82842365]])"
            ]
          },
          "execution_count": 77,
          "metadata": {},
          "output_type": "execute_result"
        }
      ],
      "source": [
        "lassocv.mse_path_"
      ]
    },
    {
      "cell_type": "code",
      "execution_count": null,
      "metadata": {
        "id": "vFDqPtyRl3lQ",
        "outputId": "31d6a52e-56a3-4e70-9b39-0118e925e737"
      },
      "outputs": [
        {
          "name": "stdout",
          "output_type": "stream",
          "text": [
            "Mean absolute error 0.6199701158263436\n",
            "R2 Score 0.9820946715928275\n"
          ]
        },
        {
          "data": {
            "image/png": "[encoded data removed]",
            "text/plain": [
              "<Figure size 432x288 with 1 Axes>"
            ]
          },
          "metadata": {
            "needs_background": "light"
          },
          "output_type": "display_data"
        }
      ],
      "source": [
        "y_pred=lassocv.predict(X_test_scaled)\n",
        "plt.scatter(y_test,y_pred)\n",
        "mae=mean_absolute_error(y_test,y_pred)\n",
        "score=r2_score(y_test,y_pred)\n",
        "print(\"Mean absolute error\", mae)\n",
        "print(\"R2 Score\", score)"
      ]
    },
    {
      "cell_type": "markdown",
      "metadata": {
        "id": "xdmYLTGul3lQ"
      },
      "source": [
        "## Ridge Regression model"
      ]
    },
    {
      "cell_type": "code",
      "execution_count": null,
      "metadata": {
        "id": "SFr7KzNdl3lQ",
        "outputId": "670ec76f-bd08-436a-c190-e474d418bbd4"
      },
      "outputs": [
        {
          "name": "stdout",
          "output_type": "stream",
          "text": [
            "Mean absolute error 0.5642305340105719\n",
            "R2 Score 0.9842993364555513\n"
          ]
        },
        {
          "data": {
            "text/plain": [
              "<matplotlib.collections.PathCollection at 0x1a558ef4be0>"
            ]
          },
          "execution_count": 71,
          "metadata": {},
          "output_type": "execute_result"
        },
        {
          "data": {
            "image/png": "[encoded data removed]",
            "text/plain": [
              "<Figure size 432x288 with 1 Axes>"
            ]
          },
          "metadata": {
            "needs_background": "light"
          },
          "output_type": "display_data"
        }
      ],
      "source": [
        "from sklearn.linear_model import Ridge\n",
        "from sklearn.metrics import mean_absolute_error\n",
        "from sklearn.metrics import r2_score\n",
        "ridge=Ridge()\n",
        "ridge.fit(X_train_scaled,y_train)\n",
        "y_pred=ridge.predict(X_test_scaled)\n",
        "mae=mean_absolute_error(y_test,y_pred)\n",
        "score=r2_score(y_test,y_pred)\n",
        "print(\"Mean absolute error\", mae)\n",
        "print(\"R2 Score\", score)\n",
        "plt.scatter(y_test,y_pred)"
      ]
    },
    {
      "cell_type": "code",
      "execution_count": null,
      "metadata": {
        "id": "hrPliyd8l3lQ",
        "outputId": "3b25feaf-4d55-47b3-f87e-50ec4d667302"
      },
      "outputs": [
        {
          "name": "stdout",
          "output_type": "stream",
          "text": [
            "Mean absolute error 0.5642305340105719\n",
            "R2 Score 0.9842993364555513\n"
          ]
        },
        {
          "data": {
            "image/png": "[encoded data removed]",
            "text/plain": [
              "<Figure size 432x288 with 1 Axes>"
            ]
          },
          "metadata": {
            "needs_background": "light"
          },
          "output_type": "display_data"
        }
      ],
      "source": [
        "from sklearn.linear_model import RidgeCV\n",
        "ridgecv=RidgeCV(cv=5)\n",
        "ridgecv.fit(X_train_scaled,y_train)\n",
        "y_pred=ridgecv.predict(X_test_scaled)\n",
        "plt.scatter(y_test,y_pred)\n",
        "mae=mean_absolute_error(y_test,y_pred)\n",
        "score=r2_score(y_test,y_pred)\n",
        "print(\"Mean absolute error\", mae)\n",
        "print(\"R2 Score\", score)"
      ]
    },
    {
      "cell_type": "code",
      "execution_count": null,
      "metadata": {
        "id": "o3Mx45aNl3lQ",
        "outputId": "b62fbcb1-fce2-4068-de92-a6e9b935f8c1"
      },
      "outputs": [
        {
          "data": {
            "text/plain": [
              "{'alphas': array([ 0.1,  1. , 10. ]),\n",
              " 'cv': 5,\n",
              " 'fit_intercept': True,\n",
              " 'gcv_mode': None,\n",
              " 'normalize': False,\n",
              " 'scoring': None,\n",
              " 'store_cv_values': False}"
            ]
          },
          "execution_count": 86,
          "metadata": {},
          "output_type": "execute_result"
        }
      ],
      "source": [
        "ridgecv.get_params()"
      ]
    },
    {
      "cell_type": "markdown",
      "metadata": {
        "id": "6d2h1r30l3lQ"
      },
      "source": [
        "## Elasticnet Regression"
      ]
    },
    {
      "cell_type": "code",
      "execution_count": null,
      "metadata": {
        "id": "B4g_1PRwl3lR",
        "outputId": "8c81e643-ef55-4146-a15d-5762249f5cb3"
      },
      "outputs": [
        {
          "name": "stdout",
          "output_type": "stream",
          "text": [
            "Mean absolute error 1.8822353634896\n",
            "R2 Score 0.8753460589519703\n"
          ]
        },
        {
          "data": {
            "text/plain": [
              "<matplotlib.collections.PathCollection at 0x1a558f5bd60>"
            ]
          },
          "execution_count": 72,
          "metadata": {},
          "output_type": "execute_result"
        },
        {
          "data": {
            "image/png": "[encoded data removed]",
            "text/plain": [
              "<Figure size 432x288 with 1 Axes>"
            ]
          },
          "metadata": {
            "needs_background": "light"
          },
          "output_type": "display_data"
        }
      ],
      "source": [
        "from sklearn.linear_model import ElasticNet\n",
        "from sklearn.metrics import mean_absolute_error\n",
        "from sklearn.metrics import r2_score\n",
        "elastic=ElasticNet()\n",
        "elastic.fit(X_train_scaled,y_train)\n",
        "y_pred=elastic.predict(X_test_scaled)\n",
        "mae=mean_absolute_error(y_test,y_pred)\n",
        "score=r2_score(y_test,y_pred)\n",
        "print(\"Mean absolute error\", mae)\n",
        "print(\"R2 Score\", score)\n",
        "plt.scatter(y_test,y_pred)"
      ]
    },
    {
      "cell_type": "code",
      "execution_count": null,
      "metadata": {
        "id": "3X1xQW6zl3lR",
        "outputId": "b73a0e09-a241-4646-d4d7-849607bcb73b"
      },
      "outputs": [
        {
          "name": "stdout",
          "output_type": "stream",
          "text": [
            "Mean absolute error 0.6575946731430905\n",
            "R2 Score 0.9814217587854941\n"
          ]
        },
        {
          "data": {
            "image/png": "[encoded data removed]",
            "text/plain": [
              "<Figure size 432x288 with 1 Axes>"
            ]
          },
          "metadata": {
            "needs_background": "light"
          },
          "output_type": "display_data"
        }
      ],
      "source": [
        "from sklearn.linear_model import ElasticNetCV\n",
        "elasticcv=ElasticNetCV(cv=5)\n",
        "elasticcv.fit(X_train_scaled,y_train)\n",
        "y_pred=elasticcv.predict(X_test_scaled)\n",
        "plt.scatter(y_test,y_pred)\n",
        "mae=mean_absolute_error(y_test,y_pred)\n",
        "score=r2_score(y_test,y_pred)\n",
        "print(\"Mean absolute error\", mae)\n",
        "print(\"R2 Score\", score)"
      ]
    },
    {
      "cell_type": "code",
      "execution_count": null,
      "metadata": {
        "id": "QzRpvatLl3lR",
        "outputId": "750d5d14-d224-4019-f35e-8966dc26681e"
      },
      "outputs": [
        {
          "data": {
            "text/plain": [
              "array([1.41170600e+01, 1.31656174e+01, 1.22782989e+01, 1.14507826e+01,\n",
              "       1.06790382e+01, 9.95930678e+00, 9.28808283e+00, 8.66209714e+00,\n",
              "       8.07830078e+00, 7.53385034e+00, 7.02609405e+00, 6.55255882e+00,\n",
              "       6.11093829e+00, 5.69908150e+00, 5.31498248e+00, 4.95677045e+00,\n",
              "       4.62270071e+00, 4.31114616e+00, 4.02058933e+00, 3.74961507e+00,\n",
              "       3.49690356e+00, 3.26122397e+00, 3.04142839e+00, 2.83644629e+00,\n",
              "       2.64527931e+00, 2.46699633e+00, 2.30072904e+00, 2.14566760e+00,\n",
              "       2.00105679e+00, 1.86619226e+00, 1.74041714e+00, 1.62311885e+00,\n",
              "       1.51372607e+00, 1.41170600e+00, 1.31656174e+00, 1.22782989e+00,\n",
              "       1.14507826e+00, 1.06790382e+00, 9.95930678e-01, 9.28808283e-01,\n",
              "       8.66209714e-01, 8.07830078e-01, 7.53385034e-01, 7.02609405e-01,\n",
              "       6.55255882e-01, 6.11093829e-01, 5.69908150e-01, 5.31498248e-01,\n",
              "       4.95677045e-01, 4.62270071e-01, 4.31114616e-01, 4.02058933e-01,\n",
              "       3.74961507e-01, 3.49690356e-01, 3.26122397e-01, 3.04142839e-01,\n",
              "       2.83644629e-01, 2.64527931e-01, 2.46699633e-01, 2.30072904e-01,\n",
              "       2.14566760e-01, 2.00105679e-01, 1.86619226e-01, 1.74041714e-01,\n",
              "       1.62311885e-01, 1.51372607e-01, 1.41170600e-01, 1.31656174e-01,\n",
              "       1.22782989e-01, 1.14507826e-01, 1.06790382e-01, 9.95930678e-02,\n",
              "       9.28808283e-02, 8.66209714e-02, 8.07830078e-02, 7.53385034e-02,\n",
              "       7.02609405e-02, 6.55255882e-02, 6.11093829e-02, 5.69908150e-02,\n",
              "       5.31498248e-02, 4.95677045e-02, 4.62270071e-02, 4.31114616e-02,\n",
              "       4.02058933e-02, 3.74961507e-02, 3.49690356e-02, 3.26122397e-02,\n",
              "       3.04142839e-02, 2.83644629e-02, 2.64527931e-02, 2.46699633e-02,\n",
              "       2.30072904e-02, 2.14566760e-02, 2.00105679e-02, 1.86619226e-02,\n",
              "       1.74041714e-02, 1.62311885e-02, 1.51372607e-02, 1.41170600e-02])"
            ]
          },
          "execution_count": 90,
          "metadata": {},
          "output_type": "execute_result"
        }
      ],
      "source": [
        "elasticcv.alphas_"
      ]
    },
    {
      "cell_type": "code",
      "execution_count": null,
      "metadata": {
        "id": "LvW3cuVgl3lR"
      },
      "outputs": [],
      "source": []
    },
    {
      "cell_type": "code",
      "execution_count": null,
      "metadata": {
        "id": "Mv7yXdZRl3lR"
      },
      "outputs": [],
      "source": []
    },
    {
      "cell_type": "code",
      "execution_count": null,
      "metadata": {
        "id": "HI7Mda0-l3lR"
      },
      "outputs": [],
      "source": []
    }
  ],
  "metadata": {
    "kernelspec": {
      "display_name": "Python 3",
      "language": "python",
      "name": "python3"
    },
    "language_info": {
      "codemirror_mode": {
        "name": "ipython",
        "version": 3
      },
      "file_extension": ".py",
      "mimetype": "text/x-python",
      "name": "python",
      "nbconvert_exporter": "python",
      "pygments_lexer": "ipython3",
      "version": "3.8.5"
    },
    "colab": {
      "provenance": [],
      "include_colab_link": true
    }
  },
  "nbformat": 4,
  "nbformat_minor": 0
}