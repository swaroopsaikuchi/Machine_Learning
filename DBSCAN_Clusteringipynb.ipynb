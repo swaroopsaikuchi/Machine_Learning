{
  "nbformat": 4,
  "nbformat_minor": 0,
  "metadata": {
    "colab": {
      "provenance": [],
      "authorship_tag": "ABX9TyO36itrBik+GRo765wUNorI",
      "include_colab_link": true
    },
    "kernelspec": {
      "name": "python3",
      "display_name": "Python 3"
    },
    "language_info": {
      "name": "python"
    }
  },
  "cells": [
    {
      "cell_type": "markdown",
      "metadata": {
        "id": "view-in-github",
        "colab_type": "text"
      },
      "source": [
        "<a href=\"https://colab.research.google.com/github/swaroopsaikuchi/multipleLinearReg/blob/main/DBSCAN_Clusteringipynb.ipynb\" target=\"_parent\"><img src=\"https://colab.research.google.com/assets/colab-badge.svg\" alt=\"Open In Colab\"/></a>"
      ]
    },
    {
      "cell_type": "code",
      "execution_count": 1,
      "metadata": {
        "id": "ivNm90TUD0iQ"
      },
      "outputs": [],
      "source": [
        "import numpy as np\n",
        "import matplotlib.pyplot as plt\n",
        "from sklearn.cluster import DBSCAN"
      ]
    },
    {
      "cell_type": "code",
      "source": [
        "X = np.array([[1, 2], [2, 2], [2, 3],\n",
        "              [8, 7], [8, 8], [25, 80]])\n",
        "eps_value = 3\n",
        "min_samples_value = 2\n",
        "clustering = DBSCAN(eps=eps_value, min_samples=min_samples_value).fit(X)\n",
        "print(\"Cluster Labels:\", clustering.labels_)\n"
      ],
      "metadata": {
        "colab": {
          "base_uri": "https://localhost:8080/"
        },
        "id": "vKWLwbRuEQKP",
        "outputId": "dfcc0175-28cd-4aeb-ce8e-f2534ac149ac"
      },
      "execution_count": 15,
      "outputs": [
        {
          "output_type": "stream",
          "name": "stdout",
          "text": [
            "Cluster Labels: [ 0  0  0  1  1 -1]\n"
          ]
        }
      ]
    }
  ]
}