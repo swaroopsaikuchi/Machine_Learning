{
 "cells": [
  {
   "cell_type": "code",
   "execution_count": 64,
   "id": "f0986ce1",
   "metadata": {},
   "outputs": [],
   "source": [
    "import numpy as np \n",
    "import matplotlib.pyplot as plt \n",
    "import math"
   ]
  },
  {
   "cell_type": "code",
   "execution_count": 65,
   "id": "a9ceb55a",
   "metadata": {},
   "outputs": [],
   "source": [
    "x_train = np.array([[2104, 5, 1, 45], [1416, 3, 2, 40], [852, 2, 1, 35]])\n",
    "y_train = np.array([460, 232, 178])"
   ]
  },
  {
   "cell_type": "code",
   "execution_count": 66,
   "id": "4e7471e4",
   "metadata": {},
   "outputs": [],
   "source": [
    "b_init = 785.1811367994083\n",
    "w_init = np.array([ 0.39133535, 18.75376741, -53.36032453, -26.42131618])"
   ]
  },
  {
   "cell_type": "code",
   "execution_count": 67,
   "id": "ec84043b",
   "metadata": {},
   "outputs": [],
   "source": [
    "def predict_single_loop(x, w, b): \n",
    "    \n",
    "    p = np.dot(x,w)         \n",
    "    return p"
   ]
  },
  {
   "cell_type": "code",
   "execution_count": 68,
   "id": "2168e53b",
   "metadata": {},
   "outputs": [
    {
     "name": "stdout",
     "output_type": "stream",
     "text": [
      "f_wb shape (3,), prediction: [-325.18113918 -553.18113843 -607.18113781]\n"
     ]
    }
   ],
   "source": [
    "f_wb = predict_single_loop(x_train, w_init, b_init)\n",
    "print(f\"f_wb shape {f_wb.shape}, prediction: {f_wb}\")\n",
    "  "
   ]
  },
  {
   "cell_type": "code",
   "execution_count": 69,
   "id": "4c320f17",
   "metadata": {},
   "outputs": [],
   "source": [
    "def compute_cost(x,y,w,b):\n",
    "    m = x.shape[0]\n",
    "    cost = 0 \n",
    "    for i in range(m):\n",
    "        f_wb = np.dot(x,w)+b\n",
    "        cost = cost +(f_wb - y[i])**2\n",
    "    total_cost = cost/2*m\n",
    "    return total_cost\n",
    "    "
   ]
  },
  {
   "cell_type": "code",
   "execution_count": 70,
   "id": "7d5e1a5d",
   "metadata": {},
   "outputs": [
    {
     "data": {
      "text/plain": [
       "array([197261.99635769,  82350.00085117, 123660.00101868])"
      ]
     },
     "execution_count": 70,
     "metadata": {},
     "output_type": "execute_result"
    }
   ],
   "source": [
    "compute_cost(x_train,y_train,w_init,b_init)"
   ]
  },
  {
   "cell_type": "code",
   "execution_count": 71,
   "id": "8acf068b",
   "metadata": {},
   "outputs": [],
   "source": [
    "def compute_gradient(x, y, w, b): \n",
    "    m,n = x.shape           #(number of examples, number of features)\n",
    "    dj_dw = np.zeros((n,))\n",
    "    dj_db = 0.\n",
    "\n",
    "    for i in range(m):                             \n",
    "        err = (np.dot(x[i], w) + b) - y[i]   \n",
    "        for j in range(n):                         \n",
    "            dj_dw[j] = dj_dw[j] + err * x[i, j]    \n",
    "        dj_db = dj_db + err                        \n",
    "    dj_dw = dj_dw / m                                \n",
    "    dj_db = dj_db / m                                \n",
    "        \n",
    "    return dj_db, dj_dw"
   ]
  },
  {
   "cell_type": "code",
   "execution_count": 72,
   "id": "b7c6ea43",
   "metadata": {},
   "outputs": [
    {
     "data": {
      "text/plain": [
       "(-1.6739251122999121e-06,\n",
       " array([-2.72623574e-03, -6.27197255e-06, -2.21745574e-06, -6.92403377e-05]))"
      ]
     },
     "execution_count": 72,
     "metadata": {},
     "output_type": "execute_result"
    }
   ],
   "source": [
    "compute_gradient(x_train,y_train,w_init,b_init)"
   ]
  },
  {
   "cell_type": "code",
   "execution_count": 75,
   "id": "2b23591f",
   "metadata": {},
   "outputs": [],
   "source": [
    "def compute_gradient_descent(x,y,w,b,cost,gradient,num_iters,alpha) :\n",
    "    j = num_iters\n",
    "    \n",
    "    for i in range(j):\n",
    "        compute_gradient(x_train,y_train,w,b)\n",
    "        w = w - (alpha * dj_dw)\n",
    "        b = b - (alpha * dj_db)\n",
    "    return w,b"
   ]
  },
  {
   "cell_type": "code",
   "execution_count": 76,
   "id": "956dabc6",
   "metadata": {},
   "outputs": [
    {
     "ename": "NameError",
     "evalue": "name 'dj_dw' is not defined",
     "output_type": "error",
     "traceback": [
      "\u001b[0;31m---------------------------------------------------------------------------\u001b[0m",
      "\u001b[0;31mNameError\u001b[0m                                 Traceback (most recent call last)",
      "Cell \u001b[0;32mIn[76], line 7\u001b[0m\n\u001b[1;32m      5\u001b[0m alpha \u001b[38;5;241m=\u001b[39m \u001b[38;5;241m5.0e-7\u001b[39m\n\u001b[1;32m      6\u001b[0m \u001b[38;5;66;03m# run gradient descent \u001b[39;00m\n\u001b[0;32m----> 7\u001b[0m w_final, b_final \u001b[38;5;241m=\u001b[39m compute_gradient_descent(X_train, y_train, initial_w, initial_b,\n\u001b[1;32m      8\u001b[0m                                                     compute_cost, compute_gradient, \n\u001b[1;32m      9\u001b[0m                                                     iterations, alpha)\n",
      "Cell \u001b[0;32mIn[75], line 6\u001b[0m, in \u001b[0;36mcompute_gradient_descent\u001b[0;34m(x, y, w, b, cost, gradient, num_iters, alpha)\u001b[0m\n\u001b[1;32m      4\u001b[0m \u001b[38;5;28;01mfor\u001b[39;00m i \u001b[38;5;129;01min\u001b[39;00m \u001b[38;5;28mrange\u001b[39m(j):\n\u001b[1;32m      5\u001b[0m     compute_gradient(x_train,y_train,w,b)\n\u001b[0;32m----> 6\u001b[0m     w \u001b[38;5;241m=\u001b[39m w \u001b[38;5;241m-\u001b[39m (alpha \u001b[38;5;241m*\u001b[39m dj_dw)\n\u001b[1;32m      7\u001b[0m     b \u001b[38;5;241m=\u001b[39m b \u001b[38;5;241m-\u001b[39m (alpha \u001b[38;5;241m*\u001b[39m dj_db)\n\u001b[1;32m      8\u001b[0m \u001b[38;5;28;01mreturn\u001b[39;00m w,b\n",
      "\u001b[0;31mNameError\u001b[0m: name 'dj_dw' is not defined"
     ]
    }
   ],
   "source": [
    "initial_w = np.zeros_like(w_init)\n",
    "initial_b = 0.\n",
    "iterations = 1000\n",
    "alpha = 5.0e-7\n",
    "w_final, b_final = compute_gradient_descent(X_train, y_train, initial_w, initial_b,\n",
    "                                                    compute_cost, compute_gradient, \n",
    "                                                    iterations, alpha)"
   ]
  },
  {
   "cell_type": "code",
   "execution_count": 77,
   "id": "cf9e3581",
   "metadata": {},
   "outputs": [],
   "source": [
    "def gradient_descent(X, y, w_in, b_in, cost_function, gradient_function, alpha, num_iters): \n",
    "    J_history = []\n",
    "    w = copy.deepcopy(w_in) \n",
    "    b = b_in\n",
    "    for i in range(num_iters):\n",
    "        dj_db,dj_dw = gradient_function(X, y, w, b)   \n",
    "        w = w - alpha * dj_dw               \n",
    "        b = b - alpha * dj_db            \n",
    "        if i<100000:\n",
    "            J_history.append( cost_function(X, y, w, b))\n",
    "        if i% math.ceil(num_iters / 10) == 0:\n",
    "            print(f\"Iteration {i:4d}: Cost {J_history[-1]:8.2f}   \")\n",
    "    return w, b, J_history "
   ]
  },
  {
   "cell_type": "code",
   "execution_count": 86,
   "id": "5c62b57a",
   "metadata": {},
   "outputs": [
    {
     "ename": "NameError",
     "evalue": "name 'copy' is not defined",
     "output_type": "error",
     "traceback": [
      "\u001b[0;31m---------------------------------------------------------------------------\u001b[0m",
      "\u001b[0;31mNameError\u001b[0m                                 Traceback (most recent call last)",
      "Cell \u001b[0;32mIn[86], line 5\u001b[0m\n\u001b[1;32m      3\u001b[0m iterations \u001b[38;5;241m=\u001b[39m \u001b[38;5;241m1000\u001b[39m\n\u001b[1;32m      4\u001b[0m alpha \u001b[38;5;241m=\u001b[39m \u001b[38;5;241m5.0e-7\u001b[39m\n\u001b[0;32m----> 5\u001b[0m w_final, b_final, J_hist \u001b[38;5;241m=\u001b[39m gradient_descent(X_train, y_train, initial_w, initial_b,\n\u001b[1;32m      6\u001b[0m                                                     compute_cost, compute_gradient, \n\u001b[1;32m      7\u001b[0m                                                     alpha, iterations)\n\u001b[1;32m      8\u001b[0m \u001b[38;5;28mprint\u001b[39m(\u001b[38;5;124mf\u001b[39m\u001b[38;5;124m\"\u001b[39m\u001b[38;5;124mb,w found by gradient descent: \u001b[39m\u001b[38;5;132;01m{\u001b[39;00mb_final\u001b[38;5;132;01m:\u001b[39;00m\u001b[38;5;124m0.2f\u001b[39m\u001b[38;5;132;01m}\u001b[39;00m\u001b[38;5;124m,\u001b[39m\u001b[38;5;132;01m{\u001b[39;00mw_final\u001b[38;5;132;01m}\u001b[39;00m\u001b[38;5;124m \u001b[39m\u001b[38;5;124m\"\u001b[39m)\n\u001b[1;32m      9\u001b[0m m,_ \u001b[38;5;241m=\u001b[39m X_train\u001b[38;5;241m.\u001b[39mshape\n",
      "Cell \u001b[0;32mIn[77], line 23\u001b[0m, in \u001b[0;36mgradient_descent\u001b[0;34m(X, y, w_in, b_in, cost_function, gradient_function, alpha, num_iters)\u001b[0m\n\u001b[1;32m     21\u001b[0m \u001b[38;5;66;03m# An array to store cost J and w's at each iteration primarily for graphing later\u001b[39;00m\n\u001b[1;32m     22\u001b[0m J_history \u001b[38;5;241m=\u001b[39m []\n\u001b[0;32m---> 23\u001b[0m w \u001b[38;5;241m=\u001b[39m copy\u001b[38;5;241m.\u001b[39mdeepcopy(w_in)  \u001b[38;5;66;03m#avoid modifying global w within function\u001b[39;00m\n\u001b[1;32m     24\u001b[0m b \u001b[38;5;241m=\u001b[39m b_in\n\u001b[1;32m     26\u001b[0m \u001b[38;5;28;01mfor\u001b[39;00m i \u001b[38;5;129;01min\u001b[39;00m \u001b[38;5;28mrange\u001b[39m(num_iters):\n\u001b[1;32m     27\u001b[0m \n\u001b[1;32m     28\u001b[0m     \u001b[38;5;66;03m# Calculate the gradient and update the parameters\u001b[39;00m\n",
      "\u001b[0;31mNameError\u001b[0m: name 'copy' is not defined"
     ]
    }
   ],
   "source": [
    "initial_w = np.zeros(x_train.shape[1] )\n",
    "initial_b = 0.\n",
    "iterations = 1000\n",
    "alpha = 5.0e-7\n",
    "w_final, b_final, J_hist = gradient_descent(X_train, y_train, initial_w, initial_b,\n",
    "                                                    compute_cost, compute_gradient, \n",
    "                                                    alpha, iterations)\n",
    "print(f\"b,w found by gradient descent: {b_final:0.2f},{w_final} \")\n",
    "m,_ = X_train.shape\n",
    "for i in range(m):\n",
    "    print(f\"prediction: {np.dot(X_train[i], w_final) + b_final:0.2f}, target value: {y_train[i]}\")"
   ]
  },
  {
   "cell_type": "code",
   "execution_count": null,
   "id": "8d0f8ce7",
   "metadata": {},
   "outputs": [],
   "source": []
  }
 ],
 "metadata": {
  "kernelspec": {
   "display_name": "Python 3 (ipykernel)",
   "language": "python",
   "name": "python3"
  },
  "language_info": {
   "codemirror_mode": {
    "name": "ipython",
    "version": 3
   },
   "file_extension": ".py",
   "mimetype": "text/x-python",
   "name": "python",
   "nbconvert_exporter": "python",
   "pygments_lexer": "ipython3",
   "version": "3.11.5"
  }
 },
 "nbformat": 4,
 "nbformat_minor": 5
}
